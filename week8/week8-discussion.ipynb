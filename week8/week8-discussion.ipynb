{
 "cells": [
  {
   "cell_type": "code",
   "execution_count": 1,
   "metadata": {},
   "outputs": [],
   "source": [
    "import numpy as np\n",
    "import os\n",
    "from PIL import Image\n",
    "import matplotlib.pyplot as plt\n",
    "from sklearn.decomposition import PCA\n",
    "from sklearn.cluster import KMeans\n",
    "from matplotlib.patches import Patch\n",
    "from ipywidgets import IntSlider, interact, Layout\n",
    "from IPython.display import display\n",
    "import zipfile"
   ]
  },
  {
   "cell_type": "code",
   "execution_count": 3,
   "metadata": {},
   "outputs": [
    {
     "name": "stdout",
     "output_type": "stream",
     "text": [
      "Files extracted to data/plant_disease\n"
     ]
    }
   ],
   "source": [
    "def unzip(zip_path, extract_to):\n",
    "    # Ensure the extraction directory exists\n",
    "    if not os.path.exists(extract_to):\n",
    "        os.makedirs(extract_to)\n",
    "\n",
    "    # Open the zip file\n",
    "    with zipfile.ZipFile(zip_path, 'r') as zip_ref:\n",
    "        # Extract all the contents into the directory\n",
    "        zip_ref.extractall(extract_to)\n",
    "        print(f\"Files extracted to {extract_to}\")\n",
    "unzip(\"data/plant_disease.zip\", \"data/plant_disease\")"
   ]
  },
  {
   "cell_type": "code",
   "execution_count": 6,
   "metadata": {},
   "outputs": [
    {
     "name": "stdout",
     "output_type": "stream",
     "text": [
      "Loading from Apple___Apple_scab...\n",
      "Loading from Apple___Black_rot...\n",
      "Loading from Apple___Cedar_apple_rust...\n",
      "Loading from Apple___healthy...\n",
      "Loading from Background_without_leaves...\n",
      "Loading from Blueberry___healthy...\n",
      "Loading from Cherry___Powdery_mildew...\n",
      "Loading from Cherry___healthy...\n",
      "Loading from Corn___Cercospora_leaf_spot Gray_leaf_spot...\n",
      "Loading from Corn___Common_rust...\n",
      "Loading from Corn___Northern_Leaf_Blight...\n",
      "Loading from Corn___healthy...\n",
      "Loading from Grape___Black_rot...\n",
      "Loading from Grape___Esca_(Black_Measles)...\n",
      "Loading from Grape___Leaf_blight_(Isariopsis_Leaf_Spot)...\n",
      "Loading from Grape___healthy...\n",
      "Loading from Orange___Haunglongbing_(Citrus_greening)...\n",
      "Loading from Peach___Bacterial_spot...\n",
      "Loading from Peach___healthy...\n",
      "Loading from Pepper,_bell___Bacterial_spot...\n",
      "Loading from Pepper,_bell___healthy...\n",
      "Loading from Potato___Early_blight...\n",
      "Loading from Potato___Late_blight...\n",
      "Loading from Potato___healthy...\n",
      "Loading from Raspberry___healthy...\n",
      "Loading from Soybean___healthy...\n",
      "Loading from Squash___Powdery_mildew...\n",
      "Loading from Strawberry___Leaf_scorch...\n",
      "Loading from Strawberry___healthy...\n",
      "Loading from Tomato___Bacterial_spot...\n",
      "Loading from Tomato___Early_blight...\n",
      "Loading from Tomato___Late_blight...\n",
      "Loading from Tomato___Leaf_Mold...\n",
      "Loading from Tomato___Septoria_leaf_spot...\n",
      "Loading from Tomato___Spider_mites Two-spotted_spider_mite...\n",
      "Loading from Tomato___Target_Spot...\n",
      "Loading from Tomato___Tomato_Yellow_Leaf_Curl_Virus...\n",
      "Loading from Tomato___Tomato_mosaic_virus...\n",
      "Loading from Tomato___healthy...\n",
      "Loaded 780 images from 39 disease classes\n"
     ]
    }
   ],
   "source": [
    "# Function to open and standardize images used in model\n",
    "\n",
    "def load_images(base_path, max_per_folder=20):\n",
    "    images = [] # Empty list to store images\n",
    "    labels = [] # Empty list to store label of each images\n",
    "    class_names = [] # Empty list to store the names of the folders for all images\n",
    "\n",
    "    for i, folder in enumerate(sorted(os.listdir(base_path))):\n",
    "        folder_path = os.path.join(base_path, folder) # Join base path with folders to iterate over\n",
    "        if not os.path.isdir(folder_path):\n",
    "            continue\n",
    "\n",
    "        class_names.append(folder)\n",
    "        print(f\"Loading from {folder}...\")\n",
    "\n",
    "        count = 0\n",
    "        for img_file in os.listdir(folder_path): # Iterate over each item in each folder\n",
    "            if count >= max_per_folder: # Stop when counter gets to 20 images\n",
    "                break\n",
    "\n",
    "            if img_file.lower().endswith(('.png', '.jpg', '.jpeg')): # Ensure file in folder is correct format\n",
    "                try:\n",
    "                    img_path = os.path.join(folder_path, img_file)\n",
    "                    with Image.open(img_path) as img: # Open image\n",
    "                        img = img.convert('RGB') # Convert it to RGB to standardize color channels\n",
    "                        img = img.resize((100, 100), Image.Resampling.LANCZOS) # Resize image using LANCZOS resampling method\n",
    "\n",
    "                    images.append(np.array(img)) # Convert image to array and add to image list\n",
    "                    labels.append(i) # Add label to label list \n",
    "                    count += 1\n",
    "                except Exception as e: # Print error message if error with a file\n",
    "                    print(f\"Error with {img_file}: {e}\")\n",
    "\n",
    "    return np.array(images), np.array(labels), class_names\n",
    "\n",
    "data_path = \"data/plant_disease/Plant_leave_diseases_dataset_with_augmentation/\"\n",
    "images, labels, class_names = load_images(data_path)\n",
    "print(f\"Loaded {len(images)} images from {len(class_names)} disease classes\")"
   ]
  },
  {
   "cell_type": "markdown",
   "metadata": {},
   "source": [
    "### Extract features and perform PCA"
   ]
  },
  {
   "cell_type": "code",
   "execution_count": 10,
   "metadata": {},
   "outputs": [
    {
     "name": "stdout",
     "output_type": "stream",
     "text": [
      "Feature shape: (780, 768)\n",
      "Reduced feature shape: (780, 2)\n"
     ]
    }
   ],
   "source": [
    "# Function to extract features and perform PCA\n",
    "\n",
    "def extract_features_and_reduce(images):\n",
    "    features = []\n",
    "    for img_array in images: # the images are all arrays rn\n",
    "        img = Image.fromarray(img_array) # convert back into an image\n",
    "        histogram = np.array(img.histogram()).astype('float') # of densities of pixels in image. Need it to be an image to run '.histogram()'\n",
    "        histogram = histogram / histogram.sum() # Normalize histograms\n",
    "        features.append(histogram)\n",
    "    features = np.array(features) # PCA needs an array, so we convert back\n",
    "    print(f\"Feature shape: {features.shape}\")\n",
    "\n",
    "    # Perform PCA\n",
    "    pca = PCA(n_components=2)\n",
    "    reduced_features = pca.fit_transform(features)\n",
    "    print(f\"Reduced feature shape: {reduced_features.shape}\")\n",
    "    return reduced_features\n",
    "\n",
    "features = extract_features_and_reduce(images)"
   ]
  },
  {
   "cell_type": "markdown",
   "metadata": {},
   "source": [
    "780 = number of images\n",
    "768 = features per image. RGB when converted. Each channel contributes 256 bins. 256x3 for each of the color channels\n",
    "We reduce 768 color channels down to 2. \n"
   ]
  },
  {
   "cell_type": "markdown",
   "metadata": {},
   "source": [
    "### Create an interactive widget and visualize clustering\n",
    "\n",
    "**Function to run a KMeans model and create a visualization**"
   ]
  },
  {
   "cell_type": "code",
   "execution_count": 13,
   "metadata": {},
   "outputs": [
    {
     "data": {
      "application/vnd.jupyter.widget-view+json": {
       "model_id": "a6d1e32d6fe84a5d922014487d1bfe30",
       "version_major": 2,
       "version_minor": 0
      },
      "text/plain": [
       "interactive(children=(IntSlider(value=3, description='Clusters:', layout=Layout(width='80%'), max=15, min=2), …"
      ]
     },
     "metadata": {},
     "output_type": "display_data"
    },
    {
     "data": {
      "text/plain": [
       "None"
      ]
     },
     "metadata": {},
     "output_type": "display_data"
    }
   ],
   "source": [
    "# Function to create widget for clustering with viz\n",
    "\n",
    "def create_widget(images, features, labels, class_names):\n",
    "    slider = IntSlider(value = 3, min = 2, max = 15, description = \"Clusters:\", layout = Layout(width = '80%'))\n",
    "\n",
    "    # Function that updates clusters based on slider input\n",
    "    def update_clusters(cluster_num):\n",
    "\n",
    "        plt.figure(figsize=(15,7))\n",
    "\n",
    "        kmeans = KMeans(n_clusters=cluster_num, random_state=42, n_init=10) # how many times do we want the model to try different centroids until it finds what's best.\n",
    "        cluster_labels = kmeans.fit_predict(features)\n",
    "\n",
    "        # Visualize clusters\n",
    "        scatter = plt.scatter(features[:,0], features[:,1], c = cluster_labels, cmap = 'viridis') # all rows first col for first PC, all rows sec col for second component\n",
    "        plt.title('PCA Reduced Features by Cluster')\n",
    "        plt.xlabel('PCA Component 1')\n",
    "        plt.ylabel('PCA Component 2')\n",
    "        plt.grid(True)\n",
    "\n",
    "        # Update legend. Want it to be discrete, not a gradient\n",
    "        colors = plt.cm.viridis(np.linspace(0,1, cluster_num))\n",
    "\n",
    "        legends = [Patch(facecolor=clr, label = f'Cluster {i + 1}') for i, clr in enumerate(colors)] # looping over list of colors and applying it to a cluster label for each one. Start at i+1 because our clusters start at 1 but python is 0 index. \n",
    "        plt.legend(handles = legends, title = \"Clusters\")\n",
    "\n",
    "        # Show plot\n",
    "        plt.tight_layout()\n",
    "        plt.show()\n",
    "\n",
    "        # Print resutls for each cluster\n",
    "        print(f\"Results for {cluster_num} clusters:\")\n",
    "        for i in range(cluster_num):\n",
    "            print(f\"Cluster {i+1}: {np.sum(cluster_labels == i)} samples\")\n",
    "\n",
    "        # Display a few images from each cluster\n",
    "        for i in range(cluster_num):\n",
    "            plt.figure(figsize=(15,5))\n",
    "\n",
    "            # Find the indices of all images that belong to the current cluster\n",
    "            # Which images are classified at cluster 1? etc\n",
    "            cluster_indices = np.where(cluster_labels == i)[0] # tuple, just want index\n",
    "\n",
    "            # Randomly pick 5 images to print\n",
    "            selected_indices = np.random.choice(cluster_indices, min(len(cluster_indices), 5), replace=False) # some might have less than 5\n",
    "\n",
    "            for j, idx in enumerate(selected_indices): # j is position of each item in arrangement of images. idx is index itself. \n",
    "                plt.subplot(1, 5, j+1) # j+1 the position on the grid of the image. 1 row, 5 columns\n",
    "                plt.imshow(images[idx])\n",
    "                plt.title(f\"Cluster {i+1}\")\n",
    "                plt.axis('off')\n",
    "\n",
    "            plt.show()\n",
    "\n",
    "    interact(update_clusters, cluster_num = slider) # user input\n",
    "\n",
    "knn_widget = create_widget(images, features, labels, class_names)\n",
    "display(knn_widget)"
   ]
  },
  {
   "cell_type": "code",
   "execution_count": null,
   "metadata": {},
   "outputs": [],
   "source": []
  }
 ],
 "metadata": {
  "kernelspec": {
   "display_name": "ml-env",
   "language": "python",
   "name": "python3"
  },
  "language_info": {
   "codemirror_mode": {
    "name": "ipython",
    "version": 3
   },
   "file_extension": ".py",
   "mimetype": "text/x-python",
   "name": "python",
   "nbconvert_exporter": "python",
   "pygments_lexer": "ipython3",
   "version": "3.10.16"
  }
 },
 "nbformat": 4,
 "nbformat_minor": 2
}
