{
 "cells": [
  {
   "cell_type": "markdown",
   "metadata": {},
   "source": [
    "# Week 2 Discussion"
   ]
  },
  {
   "cell_type": "code",
   "execution_count": 8,
   "metadata": {},
   "outputs": [],
   "source": [
    "# Import necessary libraries\n",
    "import numpy as np\n",
    "import pandas as pd\n",
    "import matplotlib.pyplot as plt\n",
    "from sklearn.model_selection import train_test_split\n",
    "from sklearn.linear_model import Lasso, Ridge\n",
    "from sklearn.metrics import mean_squared_error, r2_score\n",
    "from ipywidgets import interact, FloatLogSlider\n",
    "\n",
    "# Set seed for reproducibility\n",
    "np.random.seed(0)\n",
    "\n",
    "# Generate data\n",
    "np.random.seed(42)\n",
    "n_samples = 200 \n",
    "X = np.zeros((n_samples, 6))\n",
    "X[:, 0] = np.random.normal(0, 1, n_samples)  # X1 - Important feature\n",
    "X[:, 1] = np.random.normal(0, 1, n_samples)  # X2 -  Important feature\n",
    "X[:, 2] = X[:, 0] + np.random.normal(0, 0.1, n_samples)  # Correlated with X1\n",
    "X[:, 3] = X[:, 1] + np.random.normal(0, 0.1, n_samples)  # Correlated with X2\n",
    "X[:, 4] = np.random.normal(0, 0.1, n_samples)  # Noise\n",
    "X[:, 5] = np.random.normal(0, 0.1, n_samples)  # Noise\n",
    "\n",
    "y = 3 * X[:, 0] + 2 * X[:, 1] + 0.5 * X[:, 2] + np.random.normal(0, 0.1, n_samples) "
   ]
  },
  {
   "cell_type": "code",
   "execution_count": 3,
   "metadata": {},
   "outputs": [],
   "source": [
    "# Split the training and testing data\n",
    "X_train, X_test, Y_train, Y_test = train_test_split(X, y, test_size=0.3, random_state=42)"
   ]
  },
  {
   "cell_type": "code",
   "execution_count": 4,
   "metadata": {},
   "outputs": [
    {
     "name": "stdout",
     "output_type": "stream",
     "text": [
      "Ridge regression RMSE: 0.1441002017182506\n",
      "Ridge regression R-squared: 0.9984722762470865\n"
     ]
    }
   ],
   "source": [
    "# Create and fit Ridge regression model\n",
    "ridge_model = Ridge() # initialize. default alpha is 10\n",
    "ridge_model.fit(X_train, Y_train) # fit data on x_train and y_train\n",
    "\n",
    "ridge_predictions = ridge_model.predict(X_test) # predict on test data\n",
    "\n",
    "# Calculate MSE and R2 for Ridge regression\n",
    "ridge_rmse = np.sqrt(mean_squared_error(Y_test, ridge_predictions))\n",
    "ridge_r2 = r2_score(Y_test, ridge_predictions)\n",
    "\n",
    "print(\"Ridge regression RMSE:\", ridge_rmse)\n",
    "print(\"Ridge regression R-squared:\", ridge_r2)"
   ]
  },
  {
   "cell_type": "code",
   "execution_count": 5,
   "metadata": {},
   "outputs": [
    {
     "name": "stdout",
     "output_type": "stream",
     "text": [
      "Lasso regression RMSE: 1.298497899007902\n",
      "Lasso regression R-squared: 0.8759496036905758\n"
     ]
    }
   ],
   "source": [
    "# Create and fit Lasso regression model\n",
    "lasso_model = Lasso()\n",
    "lasso_model.fit(X_train, Y_train)\n",
    "\n",
    "lasso_predictions = lasso_model.predict(X_test)\n",
    "\n",
    "# Calculate MSE and R2 for Lasso regression\n",
    "lasso_rmse = np.sqrt(mean_squared_error(Y_test, lasso_predictions))\n",
    "lasso_r2 = r2_score(Y_test, lasso_predictions)  \n",
    "\n",
    "print(\"Lasso regression RMSE:\", lasso_rmse)\n",
    "print(\"Lasso regression R-squared:\", lasso_r2)"
   ]
  },
  {
   "cell_type": "code",
   "execution_count": null,
   "metadata": {},
   "outputs": [],
   "source": [
    "# Visualize alphas against RMSE for lasso and ridge\n",
    "\n",
    "plt.figure(figsize=(10,5))\n",
    "plt.plot(alphas, rmse_lasso, label = \"Lasso MSE\")\n",
    "plt.plot(alphas, rmse_ridge, label=\"Ridge MSE\")\n",
    "plt.xscale('log')\n",
    "plt.xlabel('Alpha')\n",
    "plt.ylabel('Root Mean Squared Error')\n",
    "plt.title('RMSE vs. Alpha for Lasso and Ridge Regression')\n",
    "plt.legend()\n",
    "plt.show()"
   ]
  },
  {
   "cell_type": "code",
   "execution_count": null,
   "metadata": {},
   "outputs": [],
   "source": [
    "# Create function for creating plot\n",
    "\n"
   ]
  },
  {
   "cell_type": "markdown",
   "metadata": {},
   "source": [
    "### Coefficient bar plot"
   ]
  },
  {
   "cell_type": "code",
   "execution_count": 11,
   "metadata": {},
   "outputs": [
    {
     "data": {
      "image/png": "[encoded data removed]",
      "text/plain": [
       "<Figure size 1500x500 with 3 Axes>"
      ]
     },
     "metadata": {},
     "output_type": "display_data"
    }
   ],
   "source": [
    "alphas = [0.1, 1, 10]\n",
    "data = []\n",
    "\n",
    "for alpha in alphas:\n",
    "    ridge = Ridge(alpha=alpha).fit(X,y)\n",
    "    lasso = Lasso(alpha=alpha).fit(X,y)\n",
    "\n",
    "    data.append(pd.DataFrame({\n",
    "        'Ridge':ridge.coef_,\n",
    "        'Lasso':lasso.coef_\n",
    "    }, index = ['X1', 'X2', 'X1_corr', 'X2_corr', 'noise1', 'noise2']))\n",
    "\n",
    "fig, axes = plt.subplots(1,3, figsize = (15,5), sharey = True) # 1 row and 3 columns\n",
    "for i, df in enumerate(data): # i tracks which plot we're at, df looks at different data frames for diff alphas\n",
    "    df.plot.bar(ax=axes[i], width = 0.8)\n",
    "    axes[i].set_title(f\"Alpha = {alphas[i]}\")\n",
    "    axes[i].set_xticklabels(df.index, rotation = 45)\n",
    "\n",
    "plt.show()\n",
    "\n"
   ]
  },
  {
   "cell_type": "markdown",
   "metadata": {},
   "source": [
    "Lasso can push coeff all the way to zero, but ridge can't. "
   ]
  },
  {
   "cell_type": "code",
   "execution_count": 17,
   "metadata": {},
   "outputs": [
    {
     "data": {
      "application/vnd.jupyter.widget-view+json": {
       "model_id": "3fb8c959669c4797bf806a4c27354417",
       "version_major": 2,
       "version_minor": 0
      },
      "text/plain": [
       "interactive(children=(FloatLogSlider(value=1.0, description='Alpha', max=3.0, min=-3.0), Dropdown(description=…"
      ]
     },
     "metadata": {},
     "output_type": "display_data"
    },
    {
     "data": {
      "text/plain": [
       "<function __main__.update_alphas(alpha, model_type)>"
      ]
     },
     "execution_count": 17,
     "metadata": {},
     "output_type": "execute_result"
    }
   ],
   "source": [
    "def update_alphas(alpha, model_type):\n",
    "    if model_type == 'Lasso':\n",
    "        model = Lasso(alpha=alpha)\n",
    "    else:\n",
    "        model = Ridge(alpha=alpha)\n",
    "\n",
    "    model.fit(X_train, Y_train)\n",
    "    y_pred = model.predict(X_test)\n",
    "    rmse = np.sqrt(mean_squared_error(Y_test, y_pred))\n",
    "    r2 = r2_score(Y_test, y_pred)\n",
    "\n",
    "    plt.figure(figsize = (10,5))\n",
    "    plt.scatter(Y_test, y_pred, color='blue', alpha=0.5, label=f\"Predictions (alpha = {alpha:.4f})\")\n",
    "    plt.plot([Y_test.min(), Y_test.max()], [Y_test.min(), Y_test.max()], 'k--', lw=2) # k-- is black, lw=2 is dashed\n",
    "    plt.title(f\"{model_type} Regression: Predictions vs Actual (alpha = {alpha:.4f})\")\n",
    "    plt.xlabel('Actual values')\n",
    "    plt.ylabel('Predicted values')\n",
    "    plt.legend()\n",
    "    plt.figtext(0.5, -0.05, f\"RMSE: {rmse:.4f}, R2: {r2:.4f}\", ha='center', fontsize=12, bbox={\"facecolor\": \"green\"})\n",
    "    plt.show()\n",
    "\n",
    "# Create interactive widget\n",
    "alpha_slider = FloatLogSlider(value = 1.0, base = 10, min = -3, max = 3, step = 0.1, description = 'Alpha') # value is default value. min and max in relation to the base\n",
    "model_selector = {'Lasso Model': 'Lasso', 'Ridge Model': 'Ridge'} # what is it called in the interactive feature: what it's called in the function\n",
    "\n",
    "interact(update_alphas, alpha = alpha_slider, model_type = model_selector)"
   ]
  },
  {
   "cell_type": "code",
   "execution_count": null,
   "metadata": {},
   "outputs": [],
   "source": []
  }
 ],
 "metadata": {
  "kernelspec": {
   "display_name": "ml-env",
   "language": "python",
   "name": "python3"
  },
  "language_info": {
   "codemirror_mode": {
    "name": "ipython",
    "version": 3
   },
   "file_extension": ".py",
   "mimetype": "text/x-python",
   "name": "python",
   "nbconvert_exporter": "python",
   "pygments_lexer": "ipython3",
   "version": "3.10.16"
  }
 },
 "nbformat": 4,
 "nbformat_minor": 2
}
